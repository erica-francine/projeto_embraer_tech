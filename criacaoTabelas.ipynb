{
 "cells": [
  {
   "cell_type": "code",
   "execution_count": 9,
   "metadata": {},
   "outputs": [],
   "source": [
    "# Importando as bibliotecas que serão utilizadas na criação das tabelas do projeto\n",
    "\n",
    "import pandas as pd\n",
    "import mysql.connector\n"
   ]
  },
  {
   "cell_type": "code",
   "execution_count": 13,
   "metadata": {},
   "outputs": [],
   "source": [
    "# Cria conexão com MySQL, passando os parâmetros(servidor, senha e database)\n",
    "\n",
    "conexao = mysql.connector.connect(host='localhost', user='root', password='admin', database='projetointegrador')"
   ]
  },
  {
   "cell_type": "code",
   "execution_count": 11,
   "metadata": {},
   "outputs": [],
   "source": [
    "# Criação da database do projeto\n",
    "\n",
    "#cursor=conexao.cursor()\n",
    "\n",
    "#cursor.execute(\"CREATE DATABASE projetointegrador\")"
   ]
  },
  {
   "cell_type": "code",
   "execution_count": null,
   "metadata": {},
   "outputs": [],
   "source": [
    "# Criação das tabelas utilizadas no projeto - Tabela tab_aviao\n",
    "\n",
    "cursor=conexao.cursor()\n",
    "\n",
    "create_tab_aviao = \"\"\" CREATE TABLE tab_aviao (\n",
    "\t\t\t\tcod_aviao INT PRIMARY KEY,\n",
    "    \t\t\tmodelo_aviao VARCHAR(30) NOT NULL,\n",
    "    \t\t\tvalor_aviao FLOAT\n",
    "\t\t\t\t);\n",
    "\t\t\t\t\"\"\"\n",
    "    \n",
    "cursor.execute(create_tab_aviao)"
   ]
  },
  {
   "cell_type": "code",
   "execution_count": null,
   "metadata": {},
   "outputs": [],
   "source": [
    "# Criação das tabelas utilizadas no projeto - Tabela tab_clientes\n",
    "\n",
    "cursor=conexao.cursor()\n",
    "\n",
    "create_tab_clientes = \"\"\" CREATE TABLE tab_clientes (\n",
    "\t\t\t\tcod_cliente INT PRIMARY KEY,\n",
    "    \t\t\tnome_cliente VARCHAR(30) NOT NULL,\n",
    "    \t\t\tcnpj_cliente VARCHAR(25)\n",
    "\t\t\t\t);\n",
    "\t\t\t\t\"\"\"\n",
    "    \n",
    "cursor.execute(create_tab_clientes)"
   ]
  }
 ],
 "metadata": {
  "kernelspec": {
   "display_name": "Python 3",
   "language": "python",
   "name": "python3"
  },
  "language_info": {
   "codemirror_mode": {
    "name": "ipython",
    "version": 3
   },
   "file_extension": ".py",
   "mimetype": "text/x-python",
   "name": "python",
   "nbconvert_exporter": "python",
   "pygments_lexer": "ipython3",
   "version": "3.10.0"
  }
 },
 "nbformat": 4,
 "nbformat_minor": 2
}

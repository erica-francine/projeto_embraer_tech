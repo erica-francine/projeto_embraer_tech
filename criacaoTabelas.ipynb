{
 "cells": [
  {
   "cell_type": "code",
   "execution_count": 49,
   "metadata": {},
   "outputs": [],
   "source": [
    "# Importando as bibliotecas que serão utilizadas na criação das tabelas do projeto\n",
    "\n",
    "import pandas as pd\n",
    "import mysql.connector\n"
   ]
  },
  {
   "cell_type": "code",
   "execution_count": 50,
   "metadata": {},
   "outputs": [],
   "source": [
    "# Cria conexão com MySQL, passando os parâmetros(servidor, senha e database)\n",
    "\n",
    "conexao = mysql.connector.connect(host='localhost', user='root', password='admin', database='projetointegrador')"
   ]
  },
  {
   "cell_type": "code",
   "execution_count": 11,
   "metadata": {},
   "outputs": [],
   "source": [
    "# Criação da database do projeto\n",
    "\n",
    "#cursor=conexao.cursor()\n",
    "\n",
    "#cursor.execute(\"CREATE DATABASE projetointegrador\")"
   ]
  },
  {
   "cell_type": "code",
   "execution_count": null,
   "metadata": {},
   "outputs": [],
   "source": [
    "# Criação das tabelas utilizadas no projeto - Tabela tab_aviao\n",
    "\n",
    "cursor=conexao.cursor()\n",
    "\n",
    "create_tab_aviao = \"\"\" CREATE TABLE tab_aviao (\n",
    "\t\t\t\tcod_aviao INT PRIMARY KEY,\n",
    "    \t\t\tmodelo_aviao VARCHAR(30) NOT NULL,\n",
    "    \t\t\tvalor_aviao FLOAT\n",
    "\t\t\t\t);\n",
    "\t\t\t\t\"\"\"\n",
    "    \n",
    "cursor.execute(create_tab_aviao)\n",
    "cursor.close()\n",
    "conexao.close()"
   ]
  },
  {
   "cell_type": "code",
   "execution_count": null,
   "metadata": {},
   "outputs": [],
   "source": [
    "# Criação das tabelas utilizadas no projeto - Tabela tab_clientes\n",
    "\n",
    "cursor=conexao.cursor()\n",
    "\n",
    "create_tab_clientes = \"\"\" CREATE TABLE tab_clientes (\n",
    "\t\t\t\tcod_cliente INT PRIMARY KEY,\n",
    "    \t\t\tnome_cliente VARCHAR(30) NOT NULL,\n",
    "    \t\t\tcnpj_cliente VARCHAR(25)\n",
    "\t\t\t\t);\n",
    "\t\t\t\t\"\"\"\n",
    "    \n",
    "cursor.execute(create_tab_clientes)\n",
    "cursor.close()\n",
    "conexao.close()"
   ]
  },
  {
   "cell_type": "code",
   "execution_count": 3,
   "metadata": {},
   "outputs": [],
   "source": [
    "# Criação das tabelas utilizadas no projeto - Tabela tab_materia_prima\n",
    "\n",
    "cursor=conexao.cursor()\n",
    "\n",
    "create_tab_materia_prima = \"\"\" CREATE TABLE tab_materia_prima (\n",
    "\t\t\t\tcod_materia_prima INT PRIMARY KEY,\n",
    "    \t\t\tdescricao_materia_prima VARCHAR(255) NOT NULL\n",
    "\t\t\t\t);\n",
    "\t\t\t\t\"\"\"\n",
    "    \n",
    "cursor.execute(create_tab_materia_prima)\n",
    "cursor.close()\n",
    "conexao.close()\n"
   ]
  },
  {
   "cell_type": "code",
   "execution_count": 9,
   "metadata": {},
   "outputs": [],
   "source": [
    "# Criação das tabelas utilizadas no projeto - Tabela tab_fornecedor\n",
    "\n",
    "cursor=conexao.cursor()\n",
    "\n",
    "create_tab_fornecedor = \"\"\" CREATE TABLE tab_fornecedor (\n",
    "\t\t\t\tcod_fornecedor INT PRIMARY KEY,\n",
    "\t\t\t\tcnpj_fornecedor VARCHAR(20) NOT NULL,\n",
    "    \t\t\tnome_fornecedor VARCHAR(255) \n",
    "\t\t\t\t);\n",
    "\t\t\t\t\"\"\"\n",
    "    \n",
    "cursor.execute(create_tab_fornecedor)\n",
    "\n",
    "cursor.close()\n",
    "conexao.close()"
   ]
  },
  {
   "cell_type": "code",
   "execution_count": 32,
   "metadata": {},
   "outputs": [],
   "source": [
    "# Criação das tabelas utilizadas no projeto - Tabela tab_endereco_fornecedor\n",
    "\n",
    "cursor=conexao.cursor()\n",
    "\n",
    "create_tab_endereco_fornecedor = \"\"\" CREATE TABLE tab_endereco_fornecedor (\n",
    "\t\t\t\tcod_endereco INT PRIMARY KEY,\n",
    "\t\t\t\trua_endereco VARCHAR(100),\n",
    "    \t\t\tnum_endereco VARCHAR(15),\n",
    "\t\t\t\tbairro_endereco VARCHAR(50),\n",
    "\t\t\t\tcep_endereco VARCHAR(25),\n",
    "\t\t\t\tcidade_endereco VARCHAR(50),\n",
    "\t\t\t\testado_endereco VARCHAR(15),\n",
    "\t\t\t\tpais_endereco VARCHAR(25),\n",
    "\t\t\t\tcod_fornecedor INT\n",
    "\t\t\t\t);\n",
    "\t\t\t\t\"\"\"\n",
    "    \n",
    "cursor.execute(create_tab_endereco_fornecedor)\n",
    "\n",
    "cursor.close()\n",
    "conexao.close()"
   ]
  },
  {
   "cell_type": "code",
   "execution_count": 42,
   "metadata": {},
   "outputs": [],
   "source": [
    "# Criação das tabelas utilizadas no projeto - Tabela tab_endereco_clientes\n",
    "\n",
    "cursor=conexao.cursor()\n",
    "\n",
    "create_tab_endereco_clientes = \"\"\" CREATE TABLE tab_endereco_clientes (\n",
    "\t\t\t\tcod_endereco INT PRIMARY KEY,\n",
    "\t\t\t\trua_endereco VARCHAR(100),\n",
    "    \t\t\tnum_endereco VARCHAR(15),\n",
    "\t\t\t\tbairro_endereco VARCHAR(50),\n",
    "\t\t\t\tcep_endereco VARCHAR(25),\n",
    "\t\t\t\tcidade_endereco VARCHAR(50),\n",
    "\t\t\t\testado_endereco VARCHAR(25),\n",
    "\t\t\t\tpais_endereco VARCHAR(25),\n",
    "\t\t\t\tcod_cliente INT\n",
    "\t\t\t\t);\n",
    "\t\t\t\t\"\"\"\n",
    "    \n",
    "cursor.execute(create_tab_endereco_clientes)\n",
    "\n",
    "cursor.close()\n",
    "conexao.close()"
   ]
  },
  {
   "cell_type": "code",
   "execution_count": 45,
   "metadata": {},
   "outputs": [],
   "source": [
    "# Criação das tabelas utilizadas no projeto - Tabela tab_centro_distribuicao\n",
    "\n",
    "cursor=conexao.cursor()\n",
    "\n",
    "create_tab_centro_distribuicao = \"\"\" CREATE TABLE tab_centro_distribuicao (\n",
    "\t\t\t\tcod_cd INT PRIMARY KEY,\n",
    "\t\t\t\trua_cd VARCHAR(100),\n",
    "    \t\t\tnum_cd VARCHAR(15),\n",
    "\t\t\t\tbairro_cd VARCHAR(50),\n",
    "\t\t\t\tcep_cd VARCHAR(25),\n",
    "\t\t\t\tcidade_cd VARCHAR(50),\n",
    "\t\t\t\testado_cd VARCHAR(2),\n",
    "\t\t\t\tpais_cd VARCHAR(25)\n",
    "\t\t\t\t);\n",
    "\t\t\t\t\"\"\"\n",
    "    \n",
    "cursor.execute(create_tab_centro_distribuicao)\n",
    "\n",
    "cursor.close()\n",
    "conexao.close()"
   ]
  },
  {
   "cell_type": "code",
   "execution_count": 51,
   "metadata": {},
   "outputs": [],
   "source": [
    "# Criação das tabelas utilizadas no projeto - Tabela tab_modal_transporte\n",
    "\n",
    "cursor=conexao.cursor()\n",
    "\n",
    "create_tab_modal_transporte = \"\"\" CREATE TABLE tab_modal_transporte (\n",
    "\t\t\t\tcod_modal INT PRIMARY KEY,\n",
    "    \t\t\tdescricao VARCHAR(50) NOT NULL\n",
    "\t\t\t\t);\n",
    "\t\t\t\t\"\"\"\n",
    "    \n",
    "cursor.execute(create_tab_modal_transporte)\n",
    "cursor.close()\n",
    "conexao.close()"
   ]
  },
  {
   "cell_type": "code",
   "execution_count": null,
   "metadata": {},
   "outputs": [],
   "source": [
    "# Criação das tabelas utilizadas no projeto - Tabela tab_custos_transporte\n",
    "\n",
    "cursor=conexao.cursor()\n",
    "\n",
    "create_tab_custos_transporte = \"\"\" CREATE TABLE tab_custos_transporte (\n",
    "\t\t\t\tcod_custo INT PRIMARY KEY,\n",
    "    \t\t\tdescricao VARCHAR(50) NOT NULL\n",
    "\t\t\t\t);\n",
    "\t\t\t\t\"\"\"\n",
    "    \n",
    "cursor.execute(create_tab_custos_transporte)\n",
    "cursor.close()\n",
    "conexao.close()"
   ]
  },
  {
   "cell_type": "code",
   "execution_count": null,
   "metadata": {},
   "outputs": [],
   "source": [
    "# Criação das tabelas utilizadas no projeto - Tabela tab_custos_transporte\n",
    "\n",
    "cursor=conexao.cursor()\n",
    "\n",
    "create_compra_materia_prima = \"\"\" CREATE TABLE tab_compra_materia (\n",
    "    \t\tid_compra, \n",
    "      \t\tdata_compra, \n",
    "        \tdistancia, \n",
    "         \tfornecedor_id_fornecedor, \n",
    "          \tmodal_id_modal,\n",
    "           \tendereco_fornecedor_id_endereco_fornecedor,\n",
    "            centro_distribuicao_id_cd \n",
    "            );\n",
    "            \"\"\"\n",
    "cursor.execute(create_compra_materia_prima)\n",
    "cursor.close()\n",
    "conexao.close()"
   ]
  }
 ],
 "metadata": {
  "kernelspec": {
   "display_name": "Python 3",
   "language": "python",
   "name": "python3"
  },
  "language_info": {
   "codemirror_mode": {
    "name": "ipython",
    "version": 3
   },
   "file_extension": ".py",
   "mimetype": "text/x-python",
   "name": "python",
   "nbconvert_exporter": "python",
   "pygments_lexer": "ipython3",
   "version": "3.10.0"
  }
 },
 "nbformat": 4,
 "nbformat_minor": 2
}

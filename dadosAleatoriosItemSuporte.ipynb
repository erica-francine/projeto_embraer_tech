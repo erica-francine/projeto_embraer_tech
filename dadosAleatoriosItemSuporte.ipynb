{
 "cells": [
  {
   "cell_type": "code",
   "execution_count": 1,
   "metadata": {},
   "outputs": [],
   "source": [
    "from random import randint, choice\n",
    "import mysql.connector"
   ]
  },
  {
   "cell_type": "code",
   "execution_count": 2,
   "metadata": {},
   "outputs": [],
   "source": [
    "\n",
    "conexao = mysql.connector.connect(\n",
    "    host='localhost',\n",
    "    user='root',\n",
    "    password='admin',\n",
    "    database='custos_transporte'\n",
    ")"
   ]
  },
  {
   "cell_type": "code",
   "execution_count": 3,
   "metadata": {},
   "outputs": [],
   "source": [
    "cursor = conexao.cursor()\n",
    "\n",
    "# Pegando todos os id_compra_materia_prima do MySQL da tabela compra_materia_prima e armazenando em uma variável\n",
    "cursor.execute(\"SELECT id_suporte FROM suporte\")\n",
    "suporte = cursor.fetchall()\n",
    "\n",
    "# Pegando todos os cod_materia_prima do MySQL da tabela materia_prima e armazenando em uma variável\n",
    "cursor.execute(\"SELECT cod_materia_prima FROM materia_prima\")\n",
    "materia_prima = cursor.fetchall()\n",
    "\n",
    "# Pegando todos os id_modelo do MySQL da tabela modelo_aviao e armazenando em uma variável\n",
    "cursor.execute(\"SELECT id_aviao FROM producao_aviao\")\n",
    "producao_aviao = cursor.fetchall()"
   ]
  },
  {
   "cell_type": "code",
   "execution_count": 4,
   "metadata": {},
   "outputs": [
    {
     "ename": "IndexError",
     "evalue": "list index out of range",
     "output_type": "error",
     "traceback": [
      "\u001b[1;31m---------------------------------------------------------------------------\u001b[0m",
      "\u001b[1;31mIndexError\u001b[0m                                Traceback (most recent call last)",
      "Cell \u001b[1;32mIn[4], line 39\u001b[0m\n\u001b[0;32m     36\u001b[0m     conexao\u001b[38;5;241m.\u001b[39mcommit()\n\u001b[0;32m     38\u001b[0m \u001b[38;5;66;03m# Chamando a função para gerar os registros\u001b[39;00m\n\u001b[1;32m---> 39\u001b[0m \u001b[43mitem_suporte_aleatorio\u001b[49m\u001b[43m(\u001b[49m\u001b[43m)\u001b[49m\n\u001b[0;32m     41\u001b[0m \u001b[38;5;66;03m# Fechando a conexão\u001b[39;00m\n\u001b[0;32m     42\u001b[0m cursor\u001b[38;5;241m.\u001b[39mclose()\n",
      "Cell \u001b[1;32mIn[4], line 17\u001b[0m, in \u001b[0;36mitem_suporte_aleatorio\u001b[1;34m()\u001b[0m\n\u001b[0;32m     14\u001b[0m quantidade \u001b[38;5;241m=\u001b[39m randint(\u001b[38;5;241m5\u001b[39m, \u001b[38;5;241m50\u001b[39m)\n\u001b[0;32m     16\u001b[0m \u001b[38;5;66;03m# Pegando IDs aleatórios das tabelas\u001b[39;00m\n\u001b[1;32m---> 17\u001b[0m suporte_id_suporte \u001b[38;5;241m=\u001b[39m \u001b[43mchoice\u001b[49m\u001b[43m(\u001b[49m\u001b[43msuporte\u001b[49m\u001b[43m)\u001b[49m[\u001b[38;5;241m0\u001b[39m]\n\u001b[0;32m     18\u001b[0m materia_prima_cod_materia_prima \u001b[38;5;241m=\u001b[39m choice(materia_prima)[\u001b[38;5;241m0\u001b[39m]\n\u001b[0;32m     19\u001b[0m producao_aviao_id_aviao \u001b[38;5;241m=\u001b[39m choice(producao_aviao)[\u001b[38;5;241m0\u001b[39m]\n",
      "File \u001b[1;32mc:\\Python310\\lib\\random.py:378\u001b[0m, in \u001b[0;36mRandom.choice\u001b[1;34m(self, seq)\u001b[0m\n\u001b[0;32m    376\u001b[0m \u001b[38;5;250m\u001b[39m\u001b[38;5;124;03m\"\"\"Choose a random element from a non-empty sequence.\"\"\"\u001b[39;00m\n\u001b[0;32m    377\u001b[0m \u001b[38;5;66;03m# raises IndexError if seq is empty\u001b[39;00m\n\u001b[1;32m--> 378\u001b[0m \u001b[38;5;28;01mreturn\u001b[39;00m \u001b[43mseq\u001b[49m\u001b[43m[\u001b[49m\u001b[38;5;28;43mself\u001b[39;49m\u001b[38;5;241;43m.\u001b[39;49m\u001b[43m_randbelow\u001b[49m\u001b[43m(\u001b[49m\u001b[38;5;28;43mlen\u001b[39;49m\u001b[43m(\u001b[49m\u001b[43mseq\u001b[49m\u001b[43m)\u001b[49m\u001b[43m)\u001b[49m\u001b[43m]\u001b[49m\n",
      "\u001b[1;31mIndexError\u001b[0m: list index out of range"
     ]
    }
   ],
   "source": [
    "cursor = conexao.cursor()\n",
    "\n",
    "# Função que vai gerar 500 registros aleatórios e inserir no MySQL na tabela item_compra\n",
    "def item_suporte_aleatorio():\n",
    "    nums_seq_existentes = set()\n",
    "      \n",
    "    for _ in range(500):\n",
    "        num_seq = randint(1, 501)\n",
    "        \n",
    "        while num_seq in nums_seq_existentes:\n",
    "            num_seq = randint(1, 501)\n",
    "\n",
    "            nums_seq_existentes.add(num_seq)\n",
    "        quantidade = randint(5, 50)\n",
    "\n",
    "        # Pegando IDs aleatórios das tabelas\n",
    "        suporte_id_suporte = choice(suporte)[0]\n",
    "        materia_prima_cod_materia_prima = choice(materia_prima)[0]\n",
    "        producao_aviao_id_aviao = choice(producao_aviao)[0]\n",
    "\n",
    "        # Pegando IDs das tabelas compra_materia_prima, materia_prima e modelo_aviao\n",
    "        cursor.execute(\"SELECT id_suporte FROM suporte WHERE id_suporte = %s\", (suporte_id_suporte,))\n",
    "        suporte_id_suporte = cursor.fetchone()[0]\n",
    "\n",
    "        cursor.execute(\"SELECT cod_materia_prima FROM materia_prima WHERE cod_materia_prima = %s\", (materia_prima_cod_materia_prima,))\n",
    "        materia_prima_cod_materia_prima = cursor.fetchone()[0]\n",
    "\n",
    "        cursor.execute(\"SELECT id_aviao FROM producao_aviao WHERE id_aviao = %s\", (producao_aviao_id_aviao,))\n",
    "        producao_aviao_id_aviao = cursor.fetchone()[0]\n",
    "\n",
    "        # Inserindo dados na tabela\n",
    "        try:\n",
    "            insert_query = \"INSERT INTO item_compra (num_seq, suporte_id_suporte, materia_prima_cod_materia_prima, quantidade, producao_aviao_id_aviao) VALUES (%s, %s, %s, %s, %s);\"\n",
    "            data = (num_seq, suporte_id_suporte, materia_prima_cod_materia_prima, quantidade, producao_aviao_id_aviao)\n",
    "            cursor.execute(insert_query, data)\n",
    "\n",
    "            conexao.commit()\n",
    "            print(f\"Inserção bem-sucedida para num_seq={num_seq}\")\n",
    "        except mysql.connector.Error as err:\n",
    "            if err.errno == mysql.connector.errorcode.ER_DUP_ENTRY:\n",
    "                print(f\"Duplicidade encontrada para num_seq={num_seq}\")\n",
    "            else:\n",
    "                print(f\"Erro ao inserir: {err}\")\n",
    "\n",
    "# Chamando a função para gerar os registros\n",
    "item_suporte_aleatorio()\n",
    "\n",
    "# Fechando a conexão\n",
    "cursor.close()\n",
    "conexao.close()\n"
   ]
  }
 ],
 "metadata": {
  "kernelspec": {
   "display_name": "Python 3",
   "language": "python",
   "name": "python3"
  },
  "language_info": {
   "codemirror_mode": {
    "name": "ipython",
    "version": 3
   },
   "file_extension": ".py",
   "mimetype": "text/x-python",
   "name": "python",
   "nbconvert_exporter": "python",
   "pygments_lexer": "ipython3",
   "version": "3.10.0"
  }
 },
 "nbformat": 4,
 "nbformat_minor": 2
}

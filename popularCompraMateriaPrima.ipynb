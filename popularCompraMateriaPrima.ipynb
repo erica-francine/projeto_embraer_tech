{
 "cells": [
  {
   "cell_type": "code",
   "execution_count": 12,
   "metadata": {},
   "outputs": [],
   "source": [
    "# Importando as bibliotecas que serão utilizadas para popular as tabelas do projeto.\n",
    "\n",
    "import pandas as pd\n",
    "import pymysql as sql\n",
    "import csv"
   ]
  },
  {
   "cell_type": "code",
   "execution_count": 13,
   "metadata": {},
   "outputs": [
    {
     "data": {
      "text/html": [
       "<div>\n",
       "<style scoped>\n",
       "    .dataframe tbody tr th:only-of-type {\n",
       "        vertical-align: middle;\n",
       "    }\n",
       "\n",
       "    .dataframe tbody tr th {\n",
       "        vertical-align: top;\n",
       "    }\n",
       "\n",
       "    .dataframe thead th {\n",
       "        text-align: right;\n",
       "    }\n",
       "</style>\n",
       "<table border=\"1\" class=\"dataframe\">\n",
       "  <thead>\n",
       "    <tr style=\"text-align: right;\">\n",
       "      <th></th>\n",
       "      <th>id_compra</th>\n",
       "      <th>data_compra</th>\n",
       "      <th>distancia</th>\n",
       "      <th>fornecedor_id_fornecedor</th>\n",
       "      <th>modal_id_modal</th>\n",
       "      <th>endereco_fornecedor_id_endereco_fornecedor</th>\n",
       "      <th>centro_distribuicao_id_cd</th>\n",
       "    </tr>\n",
       "  </thead>\n",
       "  <tbody>\n",
       "    <tr>\n",
       "      <th>0</th>\n",
       "      <td>1</td>\n",
       "      <td>2023-08-09 00:00:00</td>\n",
       "      <td>1712.66</td>\n",
       "      <td>100362</td>\n",
       "      <td>2</td>\n",
       "      <td>63</td>\n",
       "      <td>4</td>\n",
       "    </tr>\n",
       "    <tr>\n",
       "      <th>1</th>\n",
       "      <td>2</td>\n",
       "      <td>2023-05-12 00:00:00</td>\n",
       "      <td>9182.44</td>\n",
       "      <td>100317</td>\n",
       "      <td>2</td>\n",
       "      <td>18</td>\n",
       "      <td>3</td>\n",
       "    </tr>\n",
       "    <tr>\n",
       "      <th>2</th>\n",
       "      <td>3</td>\n",
       "      <td>2023-04-27 00:00:00</td>\n",
       "      <td>7287.16</td>\n",
       "      <td>100319</td>\n",
       "      <td>3</td>\n",
       "      <td>20</td>\n",
       "      <td>4</td>\n",
       "    </tr>\n",
       "    <tr>\n",
       "      <th>3</th>\n",
       "      <td>4</td>\n",
       "      <td>2023-05-04 00:00:00</td>\n",
       "      <td>6841.53</td>\n",
       "      <td>100326</td>\n",
       "      <td>2</td>\n",
       "      <td>27</td>\n",
       "      <td>1</td>\n",
       "    </tr>\n",
       "    <tr>\n",
       "      <th>4</th>\n",
       "      <td>5</td>\n",
       "      <td>2023-06-29 00:00:00</td>\n",
       "      <td>7982.65</td>\n",
       "      <td>100348</td>\n",
       "      <td>3</td>\n",
       "      <td>49</td>\n",
       "      <td>2</td>\n",
       "    </tr>\n",
       "  </tbody>\n",
       "</table>\n",
       "</div>"
      ],
      "text/plain": [
       "   id_compra          data_compra  distancia  fornecedor_id_fornecedor  \\\n",
       "0          1  2023-08-09 00:00:00    1712.66                    100362   \n",
       "1          2  2023-05-12 00:00:00    9182.44                    100317   \n",
       "2          3  2023-04-27 00:00:00    7287.16                    100319   \n",
       "3          4  2023-05-04 00:00:00    6841.53                    100326   \n",
       "4          5  2023-06-29 00:00:00    7982.65                    100348   \n",
       "\n",
       "   modal_id_modal  endereco_fornecedor_id_endereco_fornecedor  \\\n",
       "0               2                                          63   \n",
       "1               2                                          18   \n",
       "2               3                                          20   \n",
       "3               2                                          27   \n",
       "4               3                                          49   \n",
       "\n",
       "   centro_distribuicao_id_cd  \n",
       "0                          4  \n",
       "1                          3  \n",
       "2                          4  \n",
       "3                          1  \n",
       "4                          2  "
      ]
     },
     "execution_count": 13,
     "metadata": {},
     "output_type": "execute_result"
    }
   ],
   "source": [
    "# Lendo o arquivo .csv\n",
    "\n",
    "df_compra_materia_prima = pd.read_csv('tabelas csv/compra_materia_prima.csv', delimiter=';')\n",
    "df_compra_materia_prima.head()"
   ]
  },
  {
   "cell_type": "code",
   "execution_count": 14,
   "metadata": {},
   "outputs": [],
   "source": [
    "# Cria conexão com MySQL, passando os parâmetros(servidor, senha e database)\n",
    "\n",
    "conexao = sql.connect(host='localhost', user='root', password='admin', database='custos_transporte')"
   ]
  },
  {
   "cell_type": "code",
   "execution_count": 15,
   "metadata": {},
   "outputs": [],
   "source": [
    "# Criando um cursor e executando um loop no dataframe para fazer o INSERT no banco de dados\n",
    "\n",
    "cursor = conexao.cursor()\n",
    "\n",
    "for index, row in df_compra_materia_prima.iterrows():\n",
    "    sql = \"INSERT INTO compra_materia_prima (id_compra, data_compra, distancia, fornecedor_id_fornecedor, modal_id_modal, endereco_fornecedor_id_endereco_fornecedor, centro_distribuicao_id_cd) VALUES (%s, %s, %s, %s, %s, %s, %s)\"\n",
    "    val = (row['id_compra'],row['data_compra'],row['distancia'],row['fornecedor_id_fornecedor'],row['modal_id_modal'],row['endereco_fornecedor_id_endereco_fornecedor'],row['centro_distribuicao_id_cd'])\n",
    "    cursor.execute(sql, val)\n",
    "    conexao.commit()\n",
    "cursor.close()\n",
    "conexao.close()"
   ]
  }
 ],
 "metadata": {
  "kernelspec": {
   "display_name": "Python 3",
   "language": "python",
   "name": "python3"
  },
  "language_info": {
   "codemirror_mode": {
    "name": "ipython",
    "version": 3
   },
   "file_extension": ".py",
   "mimetype": "text/x-python",
   "name": "python",
   "nbconvert_exporter": "python",
   "pygments_lexer": "ipython3",
   "version": "3.10.0"
  }
 },
 "nbformat": 4,
 "nbformat_minor": 2
}

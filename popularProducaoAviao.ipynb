{
 "cells": [
  {
   "cell_type": "code",
   "execution_count": 53,
   "metadata": {},
   "outputs": [],
   "source": [
    "# Importação das bibliotecas que serão utilizadas para gerar os dados aleatórios\n",
    "\n",
    "import mysql.connector\n",
    "from random import choice,randint\n",
    "import numpy as np\n",
    "import pandas as pd\n",
    "from random import sample"
   ]
  },
  {
   "cell_type": "code",
   "execution_count": 54,
   "metadata": {},
   "outputs": [],
   "source": [
    "# Cria conexão com MySQL, passando os parâmetros(servidor, senha e database)\n",
    "\n",
    "conexao = mysql.connector.connect(host='localhost', user='root', password='admin', database='custos_transporte')"
   ]
  },
  {
   "cell_type": "code",
   "execution_count": 55,
   "metadata": {},
   "outputs": [],
   "source": [
    "cursor = conexao.cursor()\n",
    "\n",
    "# Pegando todos os id_compra_materia_prima do MySQL da tabela compra_materia_prima e armazenando em uma variável\n",
    "cursor.execute(\"SELECT id_modelo FROM modelo_aviao\")\n",
    "modelo_aviao = cursor.fetchall()"
   ]
  },
  {
   "cell_type": "code",
   "execution_count": 56,
   "metadata": {},
   "outputs": [],
   "source": [
    "cursor = conexao.cursor()\n",
    "\n",
    "# Função que vai gerar 500 registros aleatórios e inserir no MySQL na tabela item_compra\n",
    "def producao_aviao():\n",
    "    \n",
    "    for _ in range(500):\n",
    "        # Gerar um id_aviao único\n",
    "        id_aviao = None\n",
    "        while id_aviao is None or id_aviao in ids_aviao_existentes:\n",
    "            id_aviao = randint(1, 501)\n",
    "\n",
    "        # Adicionar o id_aviao gerado à lista de ids_aviao_existentes. Usei um conjunto ids_aviao_existentes para rastrear os id_aviao gerados anteriormente e garantir que cada novo id_aviao seja único.\n",
    "        ids_aviao_existentes.add(id_aviao)\n",
    "        \n",
    "        # Pegando IDs aleatórios das tabelas\n",
    "        modelo_aviao_id_modelo = choice(modelo_aviao)[0]\n",
    "        \n",
    "\n",
    "        # Pegando IDs das tabelas compra_materia_prima, materia_prima e modelo_aviao\n",
    "        cursor.execute(\"SELECT id_modelo FROM modelo_aviao WHERE id_modelo = %s\", (modelo_aviao_id_modelo,))\n",
    "        compra_materia_prima_id_compra = cursor.fetchone()[0]\n",
    "\n",
    "        # Inserindo dados na tabela\n",
    "        insert_query = \"INSERT INTO producao_aviao (id_aviao, modelo_aviao_id_modelo) VALUES (%s, %s);\"\n",
    "        data = (id_aviao, modelo_aviao_id_modelo)\n",
    "        cursor.execute(insert_query, data)\n",
    "\n",
    "    conexao.commit()\n",
    "    \n",
    "# Conjunto para rastrear os ids_aviao existentes\n",
    "ids_aviao_existentes = set()\n",
    "    \n",
    "# Chamando a função para gerar os registros\n",
    "producao_aviao()\n",
    "\n",
    "# Fechando a conexão\n",
    "cursor.close()\n",
    "conexao.close()"
   ]
  }
 ],
 "metadata": {
  "kernelspec": {
   "display_name": "Python 3",
   "language": "python",
   "name": "python3"
  },
  "language_info": {
   "codemirror_mode": {
    "name": "ipython",
    "version": 3
   },
   "file_extension": ".py",
   "mimetype": "text/x-python",
   "name": "python",
   "nbconvert_exporter": "python",
   "pygments_lexer": "ipython3",
   "version": "3.10.0"
  }
 },
 "nbformat": 4,
 "nbformat_minor": 2
}

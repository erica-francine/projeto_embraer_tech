{
 "cells": [
  {
   "cell_type": "code",
   "execution_count": 21,
   "metadata": {},
   "outputs": [],
   "source": [
    "# Importando as bibliotecas que serão utilizadas para popular as tabelas do projeto.\n",
    "\n",
    "import pandas as pd\n",
    "import pymysql as sql\n",
    "import csv\n"
   ]
  },
  {
   "cell_type": "code",
   "execution_count": 22,
   "metadata": {},
   "outputs": [
    {
     "data": {
      "text/html": [
       "<div>\n",
       "<style scoped>\n",
       "    .dataframe tbody tr th:only-of-type {\n",
       "        vertical-align: middle;\n",
       "    }\n",
       "\n",
       "    .dataframe tbody tr th {\n",
       "        vertical-align: top;\n",
       "    }\n",
       "\n",
       "    .dataframe thead th {\n",
       "        text-align: right;\n",
       "    }\n",
       "</style>\n",
       "<table border=\"1\" class=\"dataframe\">\n",
       "  <thead>\n",
       "    <tr style=\"text-align: right;\">\n",
       "      <th></th>\n",
       "      <th>cod_aviao</th>\n",
       "      <th>modelo_aviao</th>\n",
       "      <th>valor_aviao</th>\n",
       "    </tr>\n",
       "  </thead>\n",
       "  <tbody>\n",
       "    <tr>\n",
       "      <th>0</th>\n",
       "      <td>1003</td>\n",
       "      <td>EMB-110</td>\n",
       "      <td>5926920</td>\n",
       "    </tr>\n",
       "    <tr>\n",
       "      <th>1</th>\n",
       "      <td>1001</td>\n",
       "      <td>EMB-100</td>\n",
       "      <td>5420874</td>\n",
       "    </tr>\n",
       "    <tr>\n",
       "      <th>2</th>\n",
       "      <td>1005</td>\n",
       "      <td>EMB-110C</td>\n",
       "      <td>6142896</td>\n",
       "    </tr>\n",
       "    <tr>\n",
       "      <th>3</th>\n",
       "      <td>1006</td>\n",
       "      <td>EMB-110E</td>\n",
       "      <td>5987430</td>\n",
       "    </tr>\n",
       "    <tr>\n",
       "      <th>4</th>\n",
       "      <td>1007</td>\n",
       "      <td>EMB-110F</td>\n",
       "      <td>5845634</td>\n",
       "    </tr>\n",
       "  </tbody>\n",
       "</table>\n",
       "</div>"
      ],
      "text/plain": [
       "   cod_aviao modelo_aviao  valor_aviao\n",
       "0       1003      EMB-110      5926920\n",
       "1       1001      EMB-100      5420874\n",
       "2       1005     EMB-110C      6142896\n",
       "3       1006     EMB-110E      5987430\n",
       "4       1007     EMB-110F      5845634"
      ]
     },
     "execution_count": 22,
     "metadata": {},
     "output_type": "execute_result"
    }
   ],
   "source": [
    "# Lendo o arquivo .csv\n",
    "\n",
    "df_tab_aviao = pd.read_csv('tab_aviao.csv', delimiter=';')\n",
    "df_tab_aviao.head()"
   ]
  },
  {
   "cell_type": "code",
   "execution_count": 23,
   "metadata": {},
   "outputs": [],
   "source": [
    "# Cria conexão com MySQL, passando os parâmetros(servidor, senha e database)\n",
    "\n",
    "conexao = sql.connect(host='localhost', user='root', password='admin', database='projetointegrador')"
   ]
  },
  {
   "cell_type": "code",
   "execution_count": 24,
   "metadata": {},
   "outputs": [],
   "source": [
    "# Criando um cursor e executando um loop no dataframe para fazer o INSERT no banco de dados\n",
    "\n",
    "cursor = conexao.cursor()\n",
    "\n",
    "for index, row in df_tab_aviao.iterrows():\n",
    "    sql = \"INSERT INTO tab_aviao (cod_aviao, modelo_aviao, valor_aviao) VALUES (%s, %s, %s)\"\n",
    "    val = (row['cod_aviao'],row['modelo_aviao'],row['valor_aviao'])\n",
    "    cursor.execute(sql, val)\n",
    "    conexao.commit()\n",
    "cursor.close()\n",
    "conexao.close()"
   ]
  }
 ],
 "metadata": {
  "kernelspec": {
   "display_name": "Python 3",
   "language": "python",
   "name": "python3"
  },
  "language_info": {
   "codemirror_mode": {
    "name": "ipython",
    "version": 3
   },
   "file_extension": ".py",
   "mimetype": "text/x-python",
   "name": "python",
   "nbconvert_exporter": "python",
   "pygments_lexer": "ipython3",
   "version": "3.10.0"
  }
 },
 "nbformat": 4,
 "nbformat_minor": 2
}

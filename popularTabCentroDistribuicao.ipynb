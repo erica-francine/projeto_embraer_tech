{
 "cells": [
  {
   "cell_type": "code",
   "execution_count": 13,
   "metadata": {},
   "outputs": [],
   "source": [
    "# Importando as bibliotecas que serão utilizadas para popular as tabelas do projeto.\n",
    "\n",
    "import pandas as pd\n",
    "import pymysql as sql\n",
    "import csv"
   ]
  },
  {
   "cell_type": "code",
   "execution_count": 16,
   "metadata": {},
   "outputs": [
    {
     "data": {
      "text/html": [
       "<div>\n",
       "<style scoped>\n",
       "    .dataframe tbody tr th:only-of-type {\n",
       "        vertical-align: middle;\n",
       "    }\n",
       "\n",
       "    .dataframe tbody tr th {\n",
       "        vertical-align: top;\n",
       "    }\n",
       "\n",
       "    .dataframe thead th {\n",
       "        text-align: right;\n",
       "    }\n",
       "</style>\n",
       "<table border=\"1\" class=\"dataframe\">\n",
       "  <thead>\n",
       "    <tr style=\"text-align: right;\">\n",
       "      <th></th>\n",
       "      <th>id_cd</th>\n",
       "      <th>rua_cd</th>\n",
       "      <th>num_cd</th>\n",
       "      <th>bairro_cd</th>\n",
       "      <th>cep_cd</th>\n",
       "      <th>cidade_cd</th>\n",
       "      <th>estado_cd</th>\n",
       "      <th>pais_cd</th>\n",
       "    </tr>\n",
       "  </thead>\n",
       "  <tbody>\n",
       "    <tr>\n",
       "      <th>0</th>\n",
       "      <td>1</td>\n",
       "      <td>Rodovia Presidente Dutra, Distrito, km 134</td>\n",
       "      <td>180</td>\n",
       "      <td>Eugênio de Melo</td>\n",
       "      <td>12247-004</td>\n",
       "      <td>São José dos Campos</td>\n",
       "      <td>SP</td>\n",
       "      <td>Brasil</td>\n",
       "    </tr>\n",
       "    <tr>\n",
       "      <th>1</th>\n",
       "      <td>2</td>\n",
       "      <td>Estrada Municipal Euclides Martins</td>\n",
       "      <td>2170</td>\n",
       "      <td>Bairro Industrial</td>\n",
       "      <td>14813-000</td>\n",
       "      <td>Gavião Peixoto</td>\n",
       "      <td>SP</td>\n",
       "      <td>Brasil</td>\n",
       "    </tr>\n",
       "    <tr>\n",
       "      <th>2</th>\n",
       "      <td>3</td>\n",
       "      <td>Av. Alcides Cagliari</td>\n",
       "      <td>2281</td>\n",
       "      <td>Res. Indaiá</td>\n",
       "      <td>18606-855</td>\n",
       "      <td>Botucatu</td>\n",
       "      <td>SP</td>\n",
       "      <td>Brasil</td>\n",
       "    </tr>\n",
       "    <tr>\n",
       "      <th>3</th>\n",
       "      <td>4</td>\n",
       "      <td>General Aviation Drive</td>\n",
       "      <td>1205</td>\n",
       "      <td>Me</td>\n",
       "      <td>32935</td>\n",
       "      <td>Melbourne</td>\n",
       "      <td>FL</td>\n",
       "      <td>USA</td>\n",
       "    </tr>\n",
       "    <tr>\n",
       "      <th>4</th>\n",
       "      <td>5</td>\n",
       "      <td>Parque Da Indústria Aeronáutica De Évora, Herd...</td>\n",
       "      <td>1094</td>\n",
       "      <td>Horta Das Figueiras</td>\n",
       "      <td>7005-797</td>\n",
       "      <td>Évora</td>\n",
       "      <td>EV</td>\n",
       "      <td>Portugal</td>\n",
       "    </tr>\n",
       "  </tbody>\n",
       "</table>\n",
       "</div>"
      ],
      "text/plain": [
       "   id_cd                                             rua_cd  num_cd  \\\n",
       "0      1         Rodovia Presidente Dutra, Distrito, km 134     180   \n",
       "1      2                 Estrada Municipal Euclides Martins    2170   \n",
       "2      3                               Av. Alcides Cagliari    2281   \n",
       "3      4                             General Aviation Drive    1205   \n",
       "4      5  Parque Da Indústria Aeronáutica De Évora, Herd...    1094   \n",
       "\n",
       "             bairro_cd     cep_cd            cidade_cd estado_cd   pais_cd  \n",
       "0      Eugênio de Melo  12247-004  São José dos Campos        SP    Brasil  \n",
       "1    Bairro Industrial  14813-000       Gavião Peixoto        SP    Brasil  \n",
       "2          Res. Indaiá  18606-855             Botucatu        SP    Brasil  \n",
       "3                   Me      32935            Melbourne        FL       USA  \n",
       "4  Horta Das Figueiras  7005-797                 Évora        EV  Portugal  "
      ]
     },
     "execution_count": 16,
     "metadata": {},
     "output_type": "execute_result"
    }
   ],
   "source": [
    "# Lendo o arquivo .csv\n",
    "\n",
    "df_cd = pd.read_csv('cd.csv', delimiter=';')\n",
    "df_cd.head()"
   ]
  },
  {
   "cell_type": "code",
   "execution_count": 17,
   "metadata": {},
   "outputs": [],
   "source": [
    "# Criando conexão com banco de dados\n",
    "\n",
    "conexao = sql.connect(host='localhost', user='root', password='admin', database='custos_transporte')"
   ]
  },
  {
   "cell_type": "code",
   "execution_count": 18,
   "metadata": {},
   "outputs": [],
   "source": [
    "# Criando um cursor e executando um loop no dataframe para fazer o INSERT no banco de dados\n",
    "\n",
    "cursor = conexao.cursor()\n",
    "\n",
    "for index, row in df_cd.iterrows():\n",
    "    sql = \"INSERT INTO centro_distribuicao (id_cd, rua_cd, num_cd, bairro_cd, cep_cd, cidade_cd, estado_cd, pais_cd) VALUES (%s, %s, %s, %s, %s, %s, %s, %s)\"\n",
    "    val = (row['id_cd'],row['rua_cd'],row['num_cd'],row['bairro_cd'],row['cep_cd'],row['cidade_cd'],row['estado_cd'],row['pais_cd'])\n",
    "    cursor.execute(sql, val)\n",
    "    conexao.commit()\n",
    "cursor.close()\n",
    "conexao.close()"
   ]
  }
 ],
 "metadata": {
  "kernelspec": {
   "display_name": "Python 3",
   "language": "python",
   "name": "python3"
  },
  "language_info": {
   "codemirror_mode": {
    "name": "ipython",
    "version": 3
   },
   "file_extension": ".py",
   "mimetype": "text/x-python",
   "name": "python",
   "nbconvert_exporter": "python",
   "pygments_lexer": "ipython3",
   "version": "3.10.0"
  }
 },
 "nbformat": 4,
 "nbformat_minor": 2
}

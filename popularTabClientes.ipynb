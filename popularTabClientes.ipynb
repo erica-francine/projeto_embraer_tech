{
 "cells": [
  {
   "cell_type": "code",
   "execution_count": 7,
   "metadata": {},
   "outputs": [],
   "source": [
    "# Importando as bibliotecas que serão utilizadas para popular as tabelas do projeto.\n",
    "\n",
    "import pandas as pd\n",
    "import pymysql as sql\n",
    "import csv"
   ]
  },
  {
   "cell_type": "code",
   "execution_count": 8,
   "metadata": {},
   "outputs": [
    {
     "data": {
      "text/html": [
       "<div>\n",
       "<style scoped>\n",
       "    .dataframe tbody tr th:only-of-type {\n",
       "        vertical-align: middle;\n",
       "    }\n",
       "\n",
       "    .dataframe tbody tr th {\n",
       "        vertical-align: top;\n",
       "    }\n",
       "\n",
       "    .dataframe thead th {\n",
       "        text-align: right;\n",
       "    }\n",
       "</style>\n",
       "<table border=\"1\" class=\"dataframe\">\n",
       "  <thead>\n",
       "    <tr style=\"text-align: right;\">\n",
       "      <th></th>\n",
       "      <th>id_cliente</th>\n",
       "      <th>cnpj_cliente</th>\n",
       "      <th>nome_cliente</th>\n",
       "    </tr>\n",
       "  </thead>\n",
       "  <tbody>\n",
       "    <tr>\n",
       "      <th>0</th>\n",
       "      <td>1746</td>\n",
       "      <td>86.827.637/0001-84</td>\n",
       "      <td>Trans States Airlines</td>\n",
       "    </tr>\n",
       "    <tr>\n",
       "      <th>1</th>\n",
       "      <td>1596</td>\n",
       "      <td>44.504.228/0001-90</td>\n",
       "      <td>Mesa Airlines</td>\n",
       "    </tr>\n",
       "    <tr>\n",
       "      <th>2</th>\n",
       "      <td>3408</td>\n",
       "      <td>28.633.702/0001-02</td>\n",
       "      <td>Aeroméxico Connect</td>\n",
       "    </tr>\n",
       "    <tr>\n",
       "      <th>3</th>\n",
       "      <td>1618</td>\n",
       "      <td>52.475.301/0001-09</td>\n",
       "      <td>Republic Airways</td>\n",
       "    </tr>\n",
       "    <tr>\n",
       "      <th>4</th>\n",
       "      <td>1561</td>\n",
       "      <td>65.948.451/0001-73</td>\n",
       "      <td>Envoy Air</td>\n",
       "    </tr>\n",
       "  </tbody>\n",
       "</table>\n",
       "</div>"
      ],
      "text/plain": [
       "   id_cliente        cnpj_cliente           nome_cliente\n",
       "0        1746  86.827.637/0001-84  Trans States Airlines\n",
       "1        1596  44.504.228/0001-90          Mesa Airlines\n",
       "2        3408  28.633.702/0001-02     Aeroméxico Connect\n",
       "3        1618  52.475.301/0001-09       Republic Airways\n",
       "4        1561  65.948.451/0001-73              Envoy Air"
      ]
     },
     "execution_count": 8,
     "metadata": {},
     "output_type": "execute_result"
    }
   ],
   "source": [
    "# Lendo o arquivo .csv\n",
    "\n",
    "df_cliente = pd.read_csv('clientes.csv', delimiter=';')\n",
    "df_cliente.head()"
   ]
  },
  {
   "cell_type": "code",
   "execution_count": 9,
   "metadata": {},
   "outputs": [],
   "source": [
    "# Cria conexão com MySQL, passando os parâmetros(servidor, senha e database)\n",
    "\n",
    "conexao = sql.connect(host='localhost', user='root', password='admin', database='custos_transporte')"
   ]
  },
  {
   "cell_type": "code",
   "execution_count": 10,
   "metadata": {},
   "outputs": [],
   "source": [
    "# Criando um cursor e executando um loop no dataframe para fazer o INSERT no banco de dados\n",
    "\n",
    "cursor = conexao.cursor()\n",
    "\n",
    "for index, row in df_cliente.iterrows():\n",
    "    sql = \"INSERT INTO cliente (id_cliente, cnpj_cliente, nome_cliente) VALUES (%s, %s, %s)\"\n",
    "    val = (row['id_cliente'],row['cnpj_cliente'],row['nome_cliente'])\n",
    "    cursor.execute(sql, val)\n",
    "    conexao.commit()\n",
    "cursor.close()\n",
    "conexao.close()"
   ]
  }
 ],
 "metadata": {
  "kernelspec": {
   "display_name": "Python 3",
   "language": "python",
   "name": "python3"
  },
  "language_info": {
   "codemirror_mode": {
    "name": "ipython",
    "version": 3
   },
   "file_extension": ".py",
   "mimetype": "text/x-python",
   "name": "python",
   "nbconvert_exporter": "python",
   "pygments_lexer": "ipython3",
   "version": "3.10.0"
  }
 },
 "nbformat": 4,
 "nbformat_minor": 2
}

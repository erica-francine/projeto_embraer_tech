{
 "cells": [
  {
   "cell_type": "code",
   "execution_count": 6,
   "metadata": {},
   "outputs": [],
   "source": [
    "# Importando as bibliotecas que serão utilizadas para popular as tabelas do projeto.\n",
    "\n",
    "import pandas as pd\n",
    "import pymysql as sql\n",
    "import csv"
   ]
  },
  {
   "cell_type": "code",
   "execution_count": 7,
   "metadata": {},
   "outputs": [
    {
     "data": {
      "text/html": [
       "<div>\n",
       "<style scoped>\n",
       "    .dataframe tbody tr th:only-of-type {\n",
       "        vertical-align: middle;\n",
       "    }\n",
       "\n",
       "    .dataframe tbody tr th {\n",
       "        vertical-align: top;\n",
       "    }\n",
       "\n",
       "    .dataframe thead th {\n",
       "        text-align: right;\n",
       "    }\n",
       "</style>\n",
       "<table border=\"1\" class=\"dataframe\">\n",
       "  <thead>\n",
       "    <tr style=\"text-align: right;\">\n",
       "      <th></th>\n",
       "      <th>cod_endereco</th>\n",
       "      <th>rua_endereco</th>\n",
       "      <th>num_endereco</th>\n",
       "      <th>bairro_endereco</th>\n",
       "      <th>cep_endereco</th>\n",
       "      <th>cidade_endereco</th>\n",
       "      <th>estado_endereco</th>\n",
       "      <th>pais_endereco</th>\n",
       "      <th>cod_cliente</th>\n",
       "    </tr>\n",
       "  </thead>\n",
       "  <tbody>\n",
       "    <tr>\n",
       "      <th>0</th>\n",
       "      <td>1</td>\n",
       "      <td>Navaid Road Suite</td>\n",
       "      <td>340</td>\n",
       "      <td>Bridgeton</td>\n",
       "      <td>63044</td>\n",
       "      <td>St. Louis</td>\n",
       "      <td>Missouri</td>\n",
       "      <td>Estados Unidos</td>\n",
       "      <td>1746</td>\n",
       "    </tr>\n",
       "    <tr>\n",
       "      <th>1</th>\n",
       "      <td>2</td>\n",
       "      <td>44th St</td>\n",
       "      <td>410</td>\n",
       "      <td>Arcadia</td>\n",
       "      <td>85008</td>\n",
       "      <td>Phoenix</td>\n",
       "      <td>Arizona</td>\n",
       "      <td>Estados Unidos</td>\n",
       "      <td>1596</td>\n",
       "    </tr>\n",
       "    <tr>\n",
       "      <th>2</th>\n",
       "      <td>3</td>\n",
       "      <td>Calzada Zavaleta Local</td>\n",
       "      <td>2503</td>\n",
       "      <td>Santa Cruz Buena Vista</td>\n",
       "      <td>72150</td>\n",
       "      <td>Puebla</td>\n",
       "      <td>Puebla</td>\n",
       "      <td>México</td>\n",
       "      <td>3408</td>\n",
       "    </tr>\n",
       "    <tr>\n",
       "      <th>3</th>\n",
       "      <td>4</td>\n",
       "      <td>Purdue Road</td>\n",
       "      <td>300</td>\n",
       "      <td>Purdue</td>\n",
       "      <td>8909</td>\n",
       "      <td>Indianápolis</td>\n",
       "      <td>Indiana</td>\n",
       "      <td>Estados Unidos</td>\n",
       "      <td>1618</td>\n",
       "    </tr>\n",
       "    <tr>\n",
       "      <th>4</th>\n",
       "      <td>5</td>\n",
       "      <td>Regent Boulevard</td>\n",
       "      <td>4301</td>\n",
       "      <td>Boulevard</td>\n",
       "      <td>75014</td>\n",
       "      <td>Irving</td>\n",
       "      <td>Texas</td>\n",
       "      <td>Estados Unidos</td>\n",
       "      <td>1561</td>\n",
       "    </tr>\n",
       "  </tbody>\n",
       "</table>\n",
       "</div>"
      ],
      "text/plain": [
       "   cod_endereco            rua_endereco  num_endereco         bairro_endereco  \\\n",
       "0             1       Navaid Road Suite           340               Bridgeton   \n",
       "1             2                 44th St           410                 Arcadia   \n",
       "2             3  Calzada Zavaleta Local          2503  Santa Cruz Buena Vista   \n",
       "3             4             Purdue Road           300                  Purdue   \n",
       "4             5        Regent Boulevard          4301               Boulevard   \n",
       "\n",
       "   cep_endereco cidade_endereco estado_endereco   pais_endereco  cod_cliente  \n",
       "0         63044       St. Louis        Missouri  Estados Unidos         1746  \n",
       "1         85008         Phoenix         Arizona  Estados Unidos         1596  \n",
       "2         72150          Puebla          Puebla          México         3408  \n",
       "3          8909    Indianápolis         Indiana  Estados Unidos         1618  \n",
       "4         75014          Irving           Texas  Estados Unidos         1561  "
      ]
     },
     "execution_count": 7,
     "metadata": {},
     "output_type": "execute_result"
    }
   ],
   "source": [
    "# Lendo o arquivo .csv\n",
    "\n",
    "df_tab_endereco_clientes = pd.read_csv('tab_endereco_clientes.csv', delimiter=';')\n",
    "df_tab_endereco_clientes.head()"
   ]
  },
  {
   "cell_type": "code",
   "execution_count": 8,
   "metadata": {},
   "outputs": [],
   "source": [
    "# Criando conexão com banco de dados\n",
    "\n",
    "conexao = sql.connect(host='localhost', user='root', password='admin', database='projetointegrador')"
   ]
  },
  {
   "cell_type": "code",
   "execution_count": 9,
   "metadata": {},
   "outputs": [],
   "source": [
    "# Criando um cursor e executando um loop no dataframe para fazer o INSERT no banco de dados\n",
    "\n",
    "cursor = conexao.cursor()\n",
    "\n",
    "for index, row in df_tab_endereco_clientes.iterrows():\n",
    "    sql = \"INSERT INTO tab_endereco_clientes (cod_endereco, rua_endereco, num_endereco, bairro_endereco, cep_endereco, cidade_endereco, estado_endereco, pais_endereco, cod_cliente) VALUES (%s, %s, %s, %s, %s, %s, %s, %s, %s)\"\n",
    "    val = (row['cod_endereco'],row['rua_endereco'],row['num_endereco'],row['bairro_endereco'],row['cep_endereco'],row['cidade_endereco'],row['estado_endereco'],row['pais_endereco'],row['cod_cliente'] )\n",
    "    cursor.execute(sql, val)\n",
    "    conexao.commit()\n",
    "cursor.close()\n",
    "conexao.close()"
   ]
  }
 ],
 "metadata": {
  "kernelspec": {
   "display_name": "Python 3",
   "language": "python",
   "name": "python3"
  },
  "language_info": {
   "codemirror_mode": {
    "name": "ipython",
    "version": 3
   },
   "file_extension": ".py",
   "mimetype": "text/x-python",
   "name": "python",
   "nbconvert_exporter": "python",
   "pygments_lexer": "ipython3",
   "version": "3.10.0"
  }
 },
 "nbformat": 4,
 "nbformat_minor": 2
}

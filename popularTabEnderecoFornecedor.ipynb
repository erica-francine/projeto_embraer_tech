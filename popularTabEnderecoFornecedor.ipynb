{
 "cells": [
  {
   "cell_type": "code",
   "execution_count": 38,
   "metadata": {},
   "outputs": [],
   "source": [
    "# Importando as bibliotecas que serão utilizadas para popular as tabelas do projeto.\n",
    "\n",
    "import pandas as pd\n",
    "import pymysql as sql\n",
    "import csv"
   ]
  },
  {
   "cell_type": "code",
   "execution_count": 39,
   "metadata": {},
   "outputs": [
    {
     "data": {
      "text/html": [
       "<div>\n",
       "<style scoped>\n",
       "    .dataframe tbody tr th:only-of-type {\n",
       "        vertical-align: middle;\n",
       "    }\n",
       "\n",
       "    .dataframe tbody tr th {\n",
       "        vertical-align: top;\n",
       "    }\n",
       "\n",
       "    .dataframe thead th {\n",
       "        text-align: right;\n",
       "    }\n",
       "</style>\n",
       "<table border=\"1\" class=\"dataframe\">\n",
       "  <thead>\n",
       "    <tr style=\"text-align: right;\">\n",
       "      <th></th>\n",
       "      <th>cod_endereco</th>\n",
       "      <th>rua_endereco</th>\n",
       "      <th>num_endereco</th>\n",
       "      <th>bairro_endereco</th>\n",
       "      <th>cep_endereco</th>\n",
       "      <th>cidade_endereco</th>\n",
       "      <th>estado_endereco</th>\n",
       "      <th>pais_endereco</th>\n",
       "      <th>cod_fornecedor</th>\n",
       "    </tr>\n",
       "  </thead>\n",
       "  <tbody>\n",
       "    <tr>\n",
       "      <th>0</th>\n",
       "      <td>6</td>\n",
       "      <td>R Doutor Moncorvo Filho</td>\n",
       "      <td>259</td>\n",
       "      <td>NaN</td>\n",
       "      <td>33312-6645</td>\n",
       "      <td>Fort Lauderdale</td>\n",
       "      <td>FL</td>\n",
       "      <td>EUA</td>\n",
       "      <td>100305</td>\n",
       "    </tr>\n",
       "    <tr>\n",
       "      <th>1</th>\n",
       "      <td>7</td>\n",
       "      <td>R Juiz de Fora</td>\n",
       "      <td>1470</td>\n",
       "      <td>Santo Agostinho</td>\n",
       "      <td>30.180-061</td>\n",
       "      <td>Belo Horizonte</td>\n",
       "      <td>MG</td>\n",
       "      <td>Brasil</td>\n",
       "      <td>100306</td>\n",
       "    </tr>\n",
       "    <tr>\n",
       "      <th>2</th>\n",
       "      <td>8</td>\n",
       "      <td>Av Sao Joao</td>\n",
       "      <td>2375</td>\n",
       "      <td>NaN</td>\n",
       "      <td>91706</td>\n",
       "      <td>Irwindale</td>\n",
       "      <td>CA</td>\n",
       "      <td>EUA</td>\n",
       "      <td>100307</td>\n",
       "    </tr>\n",
       "    <tr>\n",
       "      <th>3</th>\n",
       "      <td>9</td>\n",
       "      <td>Q Quadra 1 Conjunto B</td>\n",
       "      <td>LT 16</td>\n",
       "      <td>NaN</td>\n",
       "      <td>91311</td>\n",
       "      <td>Chatsworth</td>\n",
       "      <td>CA</td>\n",
       "      <td>EUA</td>\n",
       "      <td>100308</td>\n",
       "    </tr>\n",
       "    <tr>\n",
       "      <th>4</th>\n",
       "      <td>10</td>\n",
       "      <td>R da Ametista</td>\n",
       "      <td>4380</td>\n",
       "      <td>NaN</td>\n",
       "      <td>60191</td>\n",
       "      <td>Wood Dale</td>\n",
       "      <td>IL</td>\n",
       "      <td>EUA</td>\n",
       "      <td>100309</td>\n",
       "    </tr>\n",
       "  </tbody>\n",
       "</table>\n",
       "</div>"
      ],
      "text/plain": [
       "   cod_endereco             rua_endereco num_endereco  bairro_endereco  \\\n",
       "0             6  R Doutor Moncorvo Filho          259              NaN   \n",
       "1             7           R Juiz de Fora         1470  Santo Agostinho   \n",
       "2             8              Av Sao Joao         2375              NaN   \n",
       "3             9    Q Quadra 1 Conjunto B        LT 16              NaN   \n",
       "4            10            R da Ametista         4380              NaN   \n",
       "\n",
       "  cep_endereco  cidade_endereco estado_endereco pais_endereco  cod_fornecedor  \n",
       "0   33312-6645  Fort Lauderdale              FL           EUA          100305  \n",
       "1   30.180-061   Belo Horizonte              MG        Brasil          100306  \n",
       "2        91706        Irwindale              CA           EUA          100307  \n",
       "3        91311       Chatsworth              CA           EUA          100308  \n",
       "4        60191        Wood Dale              IL           EUA          100309  "
      ]
     },
     "execution_count": 39,
     "metadata": {},
     "output_type": "execute_result"
    }
   ],
   "source": [
    "# Lendo o arquivo .csv\n",
    "\n",
    "df_tab_endereco_fornecedor = pd.read_csv('tab_endereco_fornecedor.csv', delimiter=';')\n",
    "df_tab_endereco_fornecedor.head()"
   ]
  },
  {
   "cell_type": "code",
   "execution_count": 40,
   "metadata": {},
   "outputs": [],
   "source": [
    "# Criando conexão com banco de dados\n",
    "\n",
    "conexao = sql.connect(host='localhost', user='root', password='admin', database='projetointegrador')"
   ]
  },
  {
   "cell_type": "code",
   "execution_count": null,
   "metadata": {},
   "outputs": [],
   "source": [
    "# Criando um cursor e executando um loop no dataframe para fazer o INSERT no banco de dados\n",
    "\n",
    "cursor = conexao.cursor()\n",
    "\n",
    "for index, row in df_tab_endereco_fornecedor.iterrows():\n",
    "    sql = \"INSERT INTO tab_endereco_fornecedor (cod_endereco, rua_endereco, num_endereco, bairro_endereco, cep_endereco, cidade_endereco, estado_endereco, pais_endereco, cod_fornecedor) VALUES (%s, %s, %s, %s, %s, %s, %s, %s, %s)\"\n",
    "    val = (row['cod_endereco'],row['rua_endereco'],row['num_endereco'],row['bairro_endereco'],row['cep_endereco'],row['cidade_endereco'],row['estado_endereco'],row['pais_endereco'],row['cod_fornecedor'] )\n",
    "    cursor.execute(sql, val)\n",
    "    conexao.commit()\n",
    "cursor.close()\n",
    "conexao.close()"
   ]
  }
 ],
 "metadata": {
  "kernelspec": {
   "display_name": "Python 3",
   "language": "python",
   "name": "python3"
  },
  "language_info": {
   "codemirror_mode": {
    "name": "ipython",
    "version": 3
   },
   "file_extension": ".py",
   "mimetype": "text/x-python",
   "name": "python",
   "nbconvert_exporter": "python",
   "pygments_lexer": "ipython3",
   "version": "3.10.0"
  }
 },
 "nbformat": 4,
 "nbformat_minor": 2
}

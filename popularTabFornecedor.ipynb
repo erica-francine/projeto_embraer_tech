{
 "cells": [
  {
   "cell_type": "code",
   "execution_count": 1,
   "metadata": {},
   "outputs": [],
   "source": [
    "# Importando as bibliotecas que serão utilizadas para popular as tabelas do projeto.\n",
    "\n",
    "import pandas as pd\n",
    "import pymysql as sql\n",
    "import csv"
   ]
  },
  {
   "cell_type": "code",
   "execution_count": 2,
   "metadata": {},
   "outputs": [
    {
     "data": {
      "text/html": [
       "<div>\n",
       "<style scoped>\n",
       "    .dataframe tbody tr th:only-of-type {\n",
       "        vertical-align: middle;\n",
       "    }\n",
       "\n",
       "    .dataframe tbody tr th {\n",
       "        vertical-align: top;\n",
       "    }\n",
       "\n",
       "    .dataframe thead th {\n",
       "        text-align: right;\n",
       "    }\n",
       "</style>\n",
       "<table border=\"1\" class=\"dataframe\">\n",
       "  <thead>\n",
       "    <tr style=\"text-align: right;\">\n",
       "      <th></th>\n",
       "      <th>id_fornecedor</th>\n",
       "      <th>cnpj_fornecedor</th>\n",
       "      <th>nome_fornecedor</th>\n",
       "    </tr>\n",
       "  </thead>\n",
       "  <tbody>\n",
       "    <tr>\n",
       "      <th>0</th>\n",
       "      <td>100300</td>\n",
       "      <td>42.035.097/0002-07</td>\n",
       "      <td>ELEB EQUIPAMENTOS LTDA.</td>\n",
       "    </tr>\n",
       "    <tr>\n",
       "      <th>1</th>\n",
       "      <td>100301</td>\n",
       "      <td>00.332.087/0001-02</td>\n",
       "      <td>RITTER CONSULTORIA E PROJETOS LTDA.</td>\n",
       "    </tr>\n",
       "    <tr>\n",
       "      <th>2</th>\n",
       "      <td>100302</td>\n",
       "      <td>13.237.931/0001-50</td>\n",
       "      <td>AGS AEROHOSES INDÚSTRIA AERONÁUTICA COMÉRCIO E...</td>\n",
       "    </tr>\n",
       "    <tr>\n",
       "      <th>3</th>\n",
       "      <td>100303</td>\n",
       "      <td>72.581.283/0001-13</td>\n",
       "      <td>GOODYEAR DO BRASIL PRODUTOS DE BORRACHA LTDA.</td>\n",
       "    </tr>\n",
       "    <tr>\n",
       "      <th>4</th>\n",
       "      <td>100304</td>\n",
       "      <td>09.453.646/0001-07</td>\n",
       "      <td>ACK TECHNOLOGIES INC.</td>\n",
       "    </tr>\n",
       "  </tbody>\n",
       "</table>\n",
       "</div>"
      ],
      "text/plain": [
       "   id_fornecedor     cnpj_fornecedor  \\\n",
       "0         100300  42.035.097/0002-07   \n",
       "1         100301  00.332.087/0001-02   \n",
       "2         100302  13.237.931/0001-50   \n",
       "3         100303  72.581.283/0001-13   \n",
       "4         100304  09.453.646/0001-07   \n",
       "\n",
       "                                     nome_fornecedor  \n",
       "0                            ELEB EQUIPAMENTOS LTDA.  \n",
       "1                RITTER CONSULTORIA E PROJETOS LTDA.  \n",
       "2  AGS AEROHOSES INDÚSTRIA AERONÁUTICA COMÉRCIO E...  \n",
       "3      GOODYEAR DO BRASIL PRODUTOS DE BORRACHA LTDA.  \n",
       "4                              ACK TECHNOLOGIES INC.  "
      ]
     },
     "execution_count": 2,
     "metadata": {},
     "output_type": "execute_result"
    }
   ],
   "source": [
    "# Lendo o arquivo .csv\n",
    "\n",
    "df_fornecedor = pd.read_csv('fornecedor.csv', delimiter=';')\n",
    "df_fornecedor.head()"
   ]
  },
  {
   "cell_type": "code",
   "execution_count": 3,
   "metadata": {},
   "outputs": [],
   "source": [
    "# Criando conexão com banco de dados\n",
    "\n",
    "conexao = sql.connect(host='localhost', user='root', password='admin', database='custos_transporte')"
   ]
  },
  {
   "cell_type": "code",
   "execution_count": 4,
   "metadata": {},
   "outputs": [],
   "source": [
    "# Criando um cursor e executando um loop no dataframe para fazer o INSERT no banco de dados\n",
    "\n",
    "cursor = conexao.cursor()\n",
    "\n",
    "for index, row in df_fornecedor.iterrows():\n",
    "    sql = \"INSERT INTO fornecedor (id_fornecedor, cnpj_fornecedor, nome_fornecedor) VALUES (%s, %s, %s)\"\n",
    "    val = (row['id_fornecedor'],row['cnpj_fornecedor'],row['nome_fornecedor'])\n",
    "    cursor.execute(sql, val)\n",
    "    conexao.commit()\n",
    "cursor.close()\n",
    "conexao.close()"
   ]
  }
 ],
 "metadata": {
  "kernelspec": {
   "display_name": "Python 3",
   "language": "python",
   "name": "python3"
  },
  "language_info": {
   "codemirror_mode": {
    "name": "ipython",
    "version": 3
   },
   "file_extension": ".py",
   "mimetype": "text/x-python",
   "name": "python",
   "nbconvert_exporter": "python",
   "pygments_lexer": "ipython3",
   "version": "3.10.0"
  }
 },
 "nbformat": 4,
 "nbformat_minor": 2
}
